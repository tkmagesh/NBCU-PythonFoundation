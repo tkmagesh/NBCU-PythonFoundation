{
 "cells": [
  {
   "cell_type": "markdown",
   "id": "dc6866f5-d534-411f-a2b8-cd51a9add952",
   "metadata": {},
   "source": [
    "# Jupyter Notebook Intro\n",
    "## Python Foundation Class"
   ]
  },
  {
   "cell_type": "code",
   "execution_count": 1,
   "id": "81c30511-a8a4-4831-befc-3458d825f956",
   "metadata": {},
   "outputs": [
    {
     "name": "stdout",
     "output_type": "stream",
     "text": [
      "Hello, World!\n"
     ]
    }
   ],
   "source": [
    "print(\"Hello, World!\")"
   ]
  },
  {
   "cell_type": "code",
   "execution_count": 3,
   "id": "e8df8628-53f2-4910-a735-770b610c6371",
   "metadata": {},
   "outputs": [
    {
     "data": {
      "text/plain": [
       "70"
      ]
     },
     "execution_count": 3,
     "metadata": {},
     "output_type": "execute_result"
    }
   ],
   "source": [
    "len(\"Pariatur nisi Lorem duis minim duis eiusmod laboris elit nisi nostrud.\")"
   ]
  }
 ],
 "metadata": {
  "kernelspec": {
   "display_name": "python-class",
   "language": "python",
   "name": "python-class"
  },
  "language_info": {
   "codemirror_mode": {
    "name": "ipython",
    "version": 3
   },
   "file_extension": ".py",
   "mimetype": "text/x-python",
   "name": "python",
   "nbconvert_exporter": "python",
   "pygments_lexer": "ipython3",
   "version": "3.12.8"
  }
 },
 "nbformat": 4,
 "nbformat_minor": 5
}
